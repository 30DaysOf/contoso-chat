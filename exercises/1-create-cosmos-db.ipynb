{
 "cells": [
  {
   "cell_type": "markdown",
   "metadata": {},
   "source": [
    "# 1. Populate Customer Data in Azure Cosmos DB"
   ]
  },
  {
   "cell_type": "code",
   "execution_count": null,
   "metadata": {},
   "outputs": [],
   "source": [
    "# Step 1: Import dependencies, load environment variables\n",
    "\n",
    "from azure.cosmos import CosmosClient, exceptions, PartitionKey\n",
    "import os\n",
    "\n",
    "from dotenv import load_dotenv\n",
    "load_dotenv()"
   ]
  },
  {
   "cell_type": "code",
   "execution_count": null,
   "metadata": {},
   "outputs": [],
   "source": [
    "# Step 2: Validate that required environment variables are defined\n",
    "# This requires the following properties to be defined.\n",
    "#         key = to authenticate with your Azure CosmosDB account \n",
    "#    endpoint = to make requests to your Azure CosmosDB instance\n",
    "#    database = the namespace for Contoso Chat app containers\n",
    "#   container = the container storing your customer data\n",
    "\n",
    "# The database and container names are hardcoded (for now)\n",
    "# These names will also be used in setting up promptflow connections later\n",
    "# NN-TODO:  Create environment variables for consistency and reuse \n",
    "DATABASE_NAME = 'contoso-outdoor'\n",
    "CONTAINER_NAME = 'customers'\n",
    "\n",
    "# The key and endpoint are set by the Azure provisioning step in .env\n",
    "# Just read the values in and create a local CosmosClient instance.\n",
    "COSMOS_ENDPOINT = os.environ[\"COSMOS_ENDPOINT\"]\n",
    "COSMOS_KEY =  os.environ[\"COSMOS_KEY\"]\n",
    "client = CosmosClient(COSMOS_ENDPOINT, credential=COSMOS_KEY)\n",
    "print(\"✅ | Azure Cosmos DB client configured successfully\")\n"
   ]
  },
  {
   "cell_type": "code",
   "execution_count": null,
   "metadata": {},
   "outputs": [],
   "source": [
    "# Step 3: Check if the specified CosmosDB service contains the required database \n",
    "#         Else create it\n",
    "client = CosmosClient(COSMOS_ENDPOINT, credential=COSMOS_KEY)\n",
    "try:\n",
    "    database = client.create_database(DATABASE_NAME)\n",
    "    print(\"✅ | Azure Cosmos DB database CREATED: \",database.id.title())        \n",
    "except exceptions.CosmosResourceExistsError:\n",
    "    database = client.get_database_client(DATABASE_NAME)\n",
    "    print(\"✅ | Azure Cosmos DB database exists: \",database.id.title())        \n"
   ]
  },
  {
   "cell_type": "code",
   "execution_count": null,
   "metadata": {},
   "outputs": [],
   "source": [
    "# Step 4: Check if the database contains the required container\n",
    "#         Else create it\n",
    "try:\n",
    "    container = database.create_container(id=CONTAINER_NAME, partition_key=PartitionKey(path=\"/id\"))\n",
    "    print(\"✅ | Azure Cosmos DB container CREATED: \",container.id.title())   \n",
    "except exceptions.CosmosResourceExistsError:\n",
    "    container = database.get_container_client(CONTAINER_NAME)\n",
    "    print(\"✅ | Azure Cosmos DB container exists: \",container.id.title())   \n",
    "except exceptions.CosmosHttpResponseError:\n",
    "    raise"
   ]
  },
  {
   "cell_type": "code",
   "execution_count": null,
   "metadata": {},
   "outputs": [],
   "source": [
    "# Step 5: Read customer data records from the specified folder (should be JSON files)\n",
    "#         Iterate through JSON files in the folder (each representing a customer record)\n",
    "#         Upsert each record into the CosmosDB container\n",
    "import os\n",
    "import json\n",
    "import glob\n",
    "path = '../data/customer_info'\n",
    " \n",
    "for filename in glob.glob(os.path.join(path, '*.json')):\n",
    "    with open(filename) as file:\n",
    "        customer = json.load(file)\n",
    "        container.upsert_item(customer)\n",
    "        print('Upserted item with id: {0}'.format(customer['id']))\n",
    "\n",
    "print(\"✅ | Updated Azure Cosmos DB container from data in: \",path)  \n"
   ]
  },
  {
   "cell_type": "code",
   "execution_count": null,
   "metadata": {},
   "outputs": [],
   "source": [
    "# Step 6: Retrieve and list container items to validate data was inserted correctly\n",
    "items = list(container.read_all_items(max_item_count=10))\n",
    "print(\"✅ | Printing the \",len(items),\"items from container for validation\")  \n",
    "for item in items:\n",
    "    print(item)\n"
   ]
  }
 ],
 "metadata": {
  "kernelspec": {
   "display_name": "pfmain",
   "language": "python",
   "name": "python3"
  },
  "language_info": {
   "codemirror_mode": {
    "name": "ipython",
    "version": 3
   },
   "file_extension": ".py",
   "mimetype": "text/x-python",
   "name": "python",
   "nbconvert_exporter": "python",
   "pygments_lexer": "ipython3",
   "version": "3.11.9"
  }
 },
 "nbformat": 4,
 "nbformat_minor": 2
}
