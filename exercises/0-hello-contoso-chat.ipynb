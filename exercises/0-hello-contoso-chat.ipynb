{
 "cells": [
  {
   "cell_type": "markdown",
   "metadata": {},
   "source": [
    "# Build, Evaluate & Deploy a RAG-based Retail Copilot <br/> using Azure AI Studio with the Promptflow framework"
   ]
  }
 ],
 "metadata": {
  "language_info": {
   "name": "python"
  }
 },
 "nbformat": 4,
 "nbformat_minor": 2
}
