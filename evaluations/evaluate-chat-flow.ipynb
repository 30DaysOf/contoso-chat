{
 "cells": [
  {
   "cell_type": "code",
   "execution_count": 4,
   "metadata": {},
   "outputs": [],
   "source": [
    "import os\n",
    "import json\n",
    "import prompty\n",
    "from coherence import coherence_evaluation\n",
    "from relevance import relevance_evaluation\n",
    "from fluency import fluency_evaluation\n",
    "from groundedness import groundedness_evaluation"
   ]
  },
  {
   "cell_type": "markdown",
   "metadata": {},
   "source": [
    "## Get output from data and save to results jsonl file"
   ]
  },
  {
   "cell_type": "code",
   "execution_count": 5,
   "metadata": {},
   "outputs": [
    {
     "data": {
      "text/html": [
       "<div>\n",
       "<style scoped>\n",
       "    .dataframe tbody tr th:only-of-type {\n",
       "        vertical-align: middle;\n",
       "    }\n",
       "\n",
       "    .dataframe tbody tr th {\n",
       "        vertical-align: top;\n",
       "    }\n",
       "\n",
       "    .dataframe thead th {\n",
       "        text-align: right;\n",
       "    }\n",
       "</style>\n",
       "<table border=\"1\" class=\"dataframe\">\n",
       "  <thead>\n",
       "    <tr style=\"text-align: right;\">\n",
       "      <th></th>\n",
       "      <th>customerId</th>\n",
       "      <th>question</th>\n",
       "      <th>chat_history</th>\n",
       "      <th>intent</th>\n",
       "    </tr>\n",
       "  </thead>\n",
       "  <tbody>\n",
       "    <tr>\n",
       "      <th>0</th>\n",
       "      <td>4</td>\n",
       "      <td>tell me about your hiking jackets</td>\n",
       "      <td>[]</td>\n",
       "      <td>chat</td>\n",
       "    </tr>\n",
       "    <tr>\n",
       "      <th>1</th>\n",
       "      <td>1</td>\n",
       "      <td>Do you have any climbing gear?</td>\n",
       "      <td>[]</td>\n",
       "      <td>chat</td>\n",
       "    </tr>\n",
       "    <tr>\n",
       "      <th>2</th>\n",
       "      <td>3</td>\n",
       "      <td>Can you tell me about your selection of tents?</td>\n",
       "      <td>[]</td>\n",
       "      <td>chat</td>\n",
       "    </tr>\n",
       "    <tr>\n",
       "      <th>3</th>\n",
       "      <td>6</td>\n",
       "      <td>Do you have any hiking boots?</td>\n",
       "      <td>[]</td>\n",
       "      <td>chat</td>\n",
       "    </tr>\n",
       "    <tr>\n",
       "      <th>4</th>\n",
       "      <td>2</td>\n",
       "      <td>What gear do you recommend for hiking?</td>\n",
       "      <td>[]</td>\n",
       "      <td>chat</td>\n",
       "    </tr>\n",
       "  </tbody>\n",
       "</table>\n",
       "</div>"
      ],
      "text/plain": [
       "   customerId                                        question chat_history  \\\n",
       "0           4               tell me about your hiking jackets           []   \n",
       "1           1                  Do you have any climbing gear?           []   \n",
       "2           3  Can you tell me about your selection of tents?           []   \n",
       "3           6                   Do you have any hiking boots?           []   \n",
       "4           2          What gear do you recommend for hiking?           []   \n",
       "\n",
       "  intent  \n",
       "0   chat  \n",
       "1   chat  \n",
       "2   chat  \n",
       "3   chat  \n",
       "4   chat  "
      ]
     },
     "execution_count": 5,
     "metadata": {},
     "output_type": "execute_result"
    }
   ],
   "source": [
    "import pandas as pd\n",
    "\n",
    "data_path = \"../data/data.jsonl\"\n",
    "\n",
    "df = pd.read_json(data_path, lines=True)\n",
    "df.head()"
   ]
  },
  {
   "cell_type": "code",
   "execution_count": null,
   "metadata": {},
   "outputs": [],
   "source": [
    "\n",
    "results = []\n",
    "\n",
    "for index, row in df.iterrows():\n",
    "    customerId = row['customerId']\n",
    "    question = row['question']\n",
    "    \n",
    "    # Run contoso-chat/chat_request flow to get response\n",
    "    response = get_response(customerId=customerId, question=question, chat_history=[])\n",
    "    \n",
    "    # Add results to list\n",
    "    result = {\n",
    "        'question': question,\n",
    "        'context': response[\"context\"],\n",
    "        'answer': response[\"answer\"]\n",
    "    }\n",
    "    results.append(result)\n",
    "\n",
    "# Save results to a JSONL file\n",
    "with open('result.jsonl', 'w') as file:\n",
    "    for result in results:\n",
    "        file.write(json.dumps(result) + '\\n')"
   ]
  },
  {
   "cell_type": "code",
   "execution_count": null,
   "metadata": {},
   "outputs": [],
   "source": [
    "# Evaluate results from results file\n",
    "results_path = 'result.jsonl'\n",
    "results = []\n",
    "with open(results_path, 'r') as file:\n",
    "    for line in file:\n",
    "        results.append(json.loads(line))\n",
    "\n",
    "for result in results:\n",
    "    question = result['question']\n",
    "    context = result['context']\n",
    "    answer = result['answer']\n",
    "    \n",
    "    groundedness_score = groundedness_evaluation(question=question, answer=answer, context=context)\n",
    "    fluency_score = fluency_evaluation(question=question, answer=answer, context=context)\n",
    "    coherence_score = coherence_evaluation(question=question, answer=answer, context=context)\n",
    "    relevance_score = relevance_evaluation(question=question, answer=answer, context=context)\n",
    "    \n",
    "    result['groundedness'] = groundedness_score\n",
    "    result['fluency'] = fluency_score\n",
    "    result['coherence'] = coherence_score\n",
    "    result['relevance'] = relevance_score\n",
    "\n",
    "# Save results to a JSONL file\n",
    "with open('result_evaluated.jsonl', 'w') as file:\n",
    "    for result in results:\n",
    "        file.write(json.dumps(result) + '\\n')\n",
    "\n",
    "# Print results\n",
    "\n",
    "df = pd.read_json('result_evaluated.jsonl', lines=True)\n",
    "df.head()"
   ]
  }
 ],
 "metadata": {
  "kernelspec": {
   "display_name": "pf-prompty",
   "language": "python",
   "name": "python3"
  },
  "language_info": {
   "codemirror_mode": {
    "name": "ipython",
    "version": 3
   },
   "file_extension": ".py",
   "mimetype": "text/x-python",
   "name": "python",
   "nbconvert_exporter": "python",
   "pygments_lexer": "ipython3",
   "version": "3.11.9"
  }
 },
 "nbformat": 4,
 "nbformat_minor": 2
}
