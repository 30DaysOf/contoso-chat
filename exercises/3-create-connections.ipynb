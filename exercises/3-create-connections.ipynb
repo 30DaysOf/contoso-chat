{
 "cells": [
  {
   "cell_type": "markdown",
   "metadata": {},
   "source": [
    "# 3. Generate your promptflow connections to Azure\n",
    "\n",
    "This promptflow uses a Directed Acyclic Graph (DAG) with each node containing a specific tool or function that processes the data as it _flows through_. The Contoso Chat flow has five nodes as follows\n",
    " - `question_embedding` - converts incoming text (question) into vectorized query (embedding)\n",
    " - `retrieve_documentation` - this uses the vectorized query to retrieve matching documents (search)\n",
    " - `customer_lookup` - this uses the incoming text (question) to lookup relevant customer records (orders)\n",
    " - `customer_prompt` - this takes the search and lookup results to create an enhanced prompt from original question\n",
    " - `llm_response` - chat completion model processes the prompt to return text response (returned to user)\n",
    "\n",
    "For this to work, some nodes will need to \"connect\" to relevant Azure-hosted services for completing their tasks. This requires us to set up _named_ promptflow connections ahead of time, so we can simply reference them in the configuration of those nodes. These are the key named connections we create:\n",
    "- `aoai-connection` - used for the question_embedding (text embedding) and llm_response (chat completion) tasks\n",
    "- `contoso-search`- used for the retrieve_documentation task (search query)\n",
    "- `contoso-cosmos` - used for the customer_lookup task (database query)\n",
    "\n",
    "Run this notebook to automatically create these connection objects based on predefined environment variables from the previous provisioning step.\n",
    "\n",
    "<br/>\n",
    "\n",
    "---"
   ]
  },
  {
   "cell_type": "code",
   "execution_count": null,
   "metadata": {},
   "outputs": [],
   "source": [
    "\n",
    "#\n",
    "# NN-TODO: Replace all hardcoded elements with local variables we can assert at start\n",
    "# NN-TODO: Add detailed comments for learners\n",
    "#\n",
    "import os\n",
    "from pathlib import Path\n",
    "\n",
    "from promptflow import PFClient\n",
    "from promptflow.entities import (\n",
    "    AzureOpenAIConnection,\n",
    "    CustomConnection,\n",
    "    CognitiveSearchConnection,\n",
    ")\n",
    "from dotenv import load_dotenv\n",
    "\n",
    "load_dotenv()\n",
    "\n",
    "pf = PFClient()"
   ]
  },
  {
   "cell_type": "code",
   "execution_count": null,
   "metadata": {},
   "outputs": [],
   "source": [
    "\n",
    "# NN-TODO: Add section to assert that required environment and local variables are defined\n",
    "# NN-TODO: Add detailed comments for learners\n",
    "#"
   ]
  },
  {
   "cell_type": "code",
   "execution_count": null,
   "metadata": {},
   "outputs": [],
   "source": [
    "# Create local Azure OpenAI Connection\n",
    "#\n",
    "# NN-TODO: Replace all hardcoded elements with local variables we can assert at start\n",
    "# NN-TODO: Add detailed comments for learners\n",
    "#\n",
    "AOAI_KEY= os.environ[\"CONTOSO_AI_SERVICES_KEY\"]\n",
    "AOAI_ENDPOINT= os.environ[\"CONTOSO_AI_SERVICES_ENDPOINT\"]\n",
    "API_VERSION = os.getenv(\"AZURE_OPENAI_API_VERSION\") or \"2024-03-01-preview\"\n",
    "connection = AzureOpenAIConnection(\n",
    "    name=\"aoai-connection\",\n",
    "    api_key=AOAI_KEY,\n",
    "    api_base=AOAI_ENDPOINT,\n",
    "    api_type=\"azure\",\n",
    "    api_version=API_VERSION,\n",
    ")\n",
    "\n",
    "print(f\"Creating connection {connection.name}...\")\n",
    "result = pf.connections.create_or_update(connection)\n",
    "print(result)"
   ]
  },
  {
   "cell_type": "code",
   "execution_count": null,
   "metadata": {},
   "outputs": [],
   "source": [
    "# Create the local contoso-cosmos connection\n",
    "#\n",
    "# NN-TODO: Replace all hardcoded elements with local variables we can assert at start\n",
    "# NN-TODO: Add detailed comments for learners\n",
    "#\n",
    "COSMOS_ENDPOINT = os.environ[\"COSMOS_ENDPOINT\"]\n",
    "COSMOS_KEY = os.environ[\"COSMOS_KEY\"]\n",
    "connection = CustomConnection(\n",
    "    name=\"contoso-cosmos\",\n",
    "    configs={\n",
    "        \"endpoint\": COSMOS_ENDPOINT,\n",
    "        \"databaseId\": \"contoso-outdoor\",\n",
    "        \"containerId\": \"customers\",\n",
    "    },\n",
    "    secrets={\"key\": COSMOS_KEY},\n",
    ")\n",
    "\n",
    "print(f\"Creating connection {connection.name}...\")\n",
    "result = pf.connections.create_or_update(connection)\n",
    "print(result)"
   ]
  },
  {
   "cell_type": "code",
   "execution_count": null,
   "metadata": {},
   "outputs": [],
   "source": [
    "# Create the local contoso-search connection\n",
    "#\n",
    "# NN-TODO: Replace all hardcoded elements with local variables we can assert at start\n",
    "# NN-TODO: Add detailed comments for learners\n",
    "#\n",
    "SEARCH_ENDPOINT = os.environ[\"CONTOSO_SEARCH_ENDPOINT\"]\n",
    "SEARCH_KEY = os.environ[\"CONTOSO_SEARCH_KEY\"]\n",
    "API_VERSION = os.getenv(\"AZURE_OPENAI_API_VERSION\") or \"2024-03-01-preview\"\n",
    "connection = CognitiveSearchConnection(\n",
    "    name=\"contoso-search\",\n",
    "    api_key=SEARCH_KEY,\n",
    "    api_base=SEARCH_ENDPOINT,\n",
    "    api_version=API_VERSION,\n",
    ")\n",
    "\n",
    "print(f\"Creating connection {connection.name}...\")\n",
    "result = pf.connections.create_or_update(connection)\n",
    "print(result)"
   ]
  },
  {
   "cell_type": "code",
   "execution_count": null,
   "metadata": {},
   "outputs": [],
   "source": [
    "\n",
    "# Use the pf tool inline to validate connections were created\n",
    "# NN-TODO: Add detailed comments for learners\n",
    "#\n",
    "!pf connection list"
   ]
  }
 ],
 "metadata": {
  "kernelspec": {
   "display_name": "pfmain",
   "language": "python",
   "name": "python3"
  },
  "language_info": {
   "codemirror_mode": {
    "name": "ipython",
    "version": 3
   },
   "file_extension": ".py",
   "mimetype": "text/x-python",
   "name": "python",
   "nbconvert_exporter": "python",
   "pygments_lexer": "ipython3",
   "version": "3.11.9"
  }
 },
 "nbformat": 4,
 "nbformat_minor": 2
}
