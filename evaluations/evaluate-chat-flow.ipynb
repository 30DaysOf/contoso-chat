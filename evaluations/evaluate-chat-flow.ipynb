{
 "cells": [
  {
   "cell_type": "code",
   "execution_count": null,
   "metadata": {},
   "outputs": [],
   "source": [
    "import os\n",
    "import json\n",
    "\n",
    "from promptflow.core import AzureOpenAIModelConfiguration\n",
    "\n",
    "# Initialize Azure OpenAI Connection\n",
    "model_config = AzureOpenAIModelConfiguration(\n",
    "        azure_deployment=os.environ[\"AZURE_DEPLOYMENT_NAME\"],\n",
    "        api_key=os.environ[\"AZURE_OPENAI_API_KEY\"],\n",
    "        api_version=os.environ[\"AZURE_OPENAI_API_VERSION\"],\n",
    "        azure_endpoint=os.environ[\"AZURE_OPENAI_ENDPOINT\"]\n",
    "    )"
   ]
  },
  {
   "cell_type": "code",
   "execution_count": null,
   "metadata": {},
   "outputs": [],
   "source": [
    "import pandas as pd\n",
    "\n",
    "data_path = \"../data/data.jsonl\"\n",
    "\n",
    "df = pd.read_json(data_path, lines=True)\n",
    "df.head()"
   ]
  },
  {
   "cell_type": "code",
   "execution_count": null,
   "metadata": {},
   "outputs": [],
   "source": [
    "from promptflow.client import load_flow\n",
    "\n",
    "# load apology evaluatorfrom prompty\n",
    "groundedness_eval = load_flow(source=\"prompty/groundedness.prompty\", model={\"configuration\": model_config})\n",
    "fluency_eval = load_flow(source=\"prompty/fluency.prompty\", model={\"configuration\": model_config})\n",
    "coherence_eval = load_flow(source=\"prompty/coherence.prompty\", model={\"configuration\": model_config})\n",
    "relevance_eval = load_flow(source=\"prompty/relevance.prompty\", model={\"configuration\": model_config})"
   ]
  },
  {
   "cell_type": "code",
   "execution_count": null,
   "metadata": {},
   "outputs": [],
   "source": [
    "\n",
    "results = []\n",
    "\n",
    "for index, row in df.iterrows():\n",
    "    customer_id = row['customerId']\n",
    "    question = row['question']\n",
    "    \n",
    "    # Run contoso-chat/chat_request flow to get response\n",
    "    response = get_response(customer_id=customer_id, question=question)\n",
    "    \n",
    "    # Add results to list\n",
    "    result = {\n",
    "        'customerId': customer_id,\n",
    "        'question': question,\n",
    "        'response': response\n",
    "    }\n",
    "    results.append(result)\n",
    "\n",
    "# Save results to a JSONL file\n",
    "with open('results.jsonl', 'w') as file:\n",
    "    for result in results:\n",
    "        file.write(json.dumps(result) + '\\n')"
   ]
  },
  {
   "cell_type": "code",
   "execution_count": null,
   "metadata": {},
   "outputs": [],
   "source": [
    "from promptflow.evals.evaluate import evaluate\n",
    "#from promptflow.evals.evaluators.content_safty import violence_eval\n",
    "\n",
    "result = evaluate(\n",
    "    data=\"results.jsonl\",\n",
    "    evaluators={\n",
    "        #\"violence\": violence_eval,\n",
    "        \"groundedness\": groundedness_eval,\n",
    "        \"fluecy\": fluency_eval,\n",
    "        \"coherence\": coherence_eval,\n",
    "        \"relevence\": relevance_eval,\n",
    "    },\n",
    "    # column mapping\n",
    "    evaluator_config={\n",
    "        \"default\": {\n",
    "            \"question\": \"${data.question}\",\n",
    "            \"answer\": \"${run.outputs.answer}\",\n",
    "            \"context\": \"${run.outputs.context}\",\n",
    "        }\n",
    "    }\n",
    ")"
   ]
  },
  {
   "cell_type": "code",
   "execution_count": null,
   "metadata": {},
   "outputs": [],
   "source": [
    "from IPython.display import display, JSON\n",
    "\n",
    "display(JSON(result))"
   ]
  },
  {
   "cell_type": "code",
   "execution_count": null,
   "metadata": {},
   "outputs": [],
   "source": [
    "# Initialize Project Scope\n",
    "#project_scope = {config.json}"
   ]
  },
  {
   "cell_type": "code",
   "execution_count": null,
   "metadata": {},
   "outputs": [],
   "source": [
    "# Check the results using Azure AI Studio UI\n",
    "#print(result[\"studio_url\"])"
   ]
  }
 ],
 "metadata": {
  "kernelspec": {
   "display_name": "pf-prompty",
   "language": "python",
   "name": "python3"
  },
  "language_info": {
   "codemirror_mode": {
    "name": "ipython",
    "version": 3
   },
   "file_extension": ".py",
   "mimetype": "text/x-python",
   "name": "python",
   "nbconvert_exporter": "python",
   "pygments_lexer": "ipython3",
   "version": "3.11.9"
  }
 },
 "nbformat": 4,
 "nbformat_minor": 2
}
